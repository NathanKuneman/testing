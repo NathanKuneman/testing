{
 "cells": [
  {
   "cell_type": "code",
   "execution_count": 120,
   "id": "f67bf6ed",
   "metadata": {},
   "outputs": [],
   "source": [
    "from pybaseball import statcast_batter\n",
    "from pybaseball import batting_stats_bref\n",
    "from pybaseball import retrosheet\n",
    "from pybaseball import playerid_lookup\n",
    "from pybaseball.lahman import *\n",
    "from pybaseball import playerid_reverse_lookup\n",
    "import pandas as pd"
   ]
  },
  {
   "cell_type": "code",
   "execution_count": 97,
   "id": "fd9fe749",
   "metadata": {},
   "outputs": [],
   "source": [
    "download_lahman()"
   ]
  },
  {
   "cell_type": "code",
   "execution_count": 98,
   "id": "ef1fef35",
   "metadata": {},
   "outputs": [],
   "source": [
    "batting = batting()"
   ]
  },
  {
   "cell_type": "code",
   "execution_count": 99,
   "id": "335c8f26",
   "metadata": {},
   "outputs": [],
   "source": [
    "recent_bats = batting[batting['yearID'] > 2000]"
   ]
  },
  {
   "cell_type": "code",
   "execution_count": 100,
   "id": "0d8f9ac9",
   "metadata": {},
   "outputs": [],
   "source": [
    "career_totals = recent_bats.groupby('playerID').sum()\n",
    "career_totals.reset_index()\n",
    "\n",
    "# Limit to only players with 100+ AB\n",
    "career_totals = career_totals[career_totals['AB'] > 100]\n",
    "\n",
    "# Set career stat columns\n",
    "# Batting Average\n",
    "career_totals['BA'] = career_totals['H'] / career_totals['AB']\n",
    "# 2B/AB\n",
    "career_totals['2B/AB'] = career_totals['2B'] / career_totals['AB']\n",
    "# 3B/AB\n",
    "career_totals['3B/AB'] = career_totals['3B'] / career_totals['AB']\n",
    "# HR/AB\n",
    "career_totals['HR/AB'] = career_totals['HR'] / career_totals['AB']\n",
    "# RBI/G\n",
    "career_totals['RBI/G'] = career_totals['RBI'] / career_totals['G']\n",
    "# R/G\n",
    "career_totals['R/G'] = career_totals['R'] / career_totals['G']\n",
    "# BB/G\n",
    "career_totals['BB/G'] = career_totals['BB'] / career_totals['G']\n",
    "# SB/G\n",
    "career_totals['SB/G'] = career_totals['SB'] / career_totals['G']\n",
    "# HBP/G\n",
    "career_totals['HBP/G'] = career_totals['HBP'] / career_totals['G']\n",
    "\n",
    "\n"
   ]
  },
  {
   "cell_type": "code",
   "execution_count": 101,
   "id": "b4f2e215",
   "metadata": {},
   "outputs": [],
   "source": [
    "# Drop columns we don't need\n",
    "career_totals = career_totals.iloc[:,19:]\n",
    "career_totals = career_totals.reset_index()"
   ]
  },
  {
   "cell_type": "code",
   "execution_count": null,
   "id": "65bfe5bf",
   "metadata": {},
   "outputs": [],
   "source": []
  },
  {
   "cell_type": "code",
   "execution_count": 102,
   "id": "a8332e85",
   "metadata": {},
   "outputs": [
    {
     "name": "stdout",
     "output_type": "stream",
     "text": [
      "<class 'pandas.core.frame.DataFrame'>\n",
      "RangeIndex: 2424 entries, 0 to 2423\n",
      "Data columns (total 16 columns):\n",
      " #   Column  Non-Null Count  Dtype \n",
      "---  ------  --------------  ----- \n",
      " 0   0       2424 non-null   object\n",
      " 1   1       2424 non-null   object\n",
      " 2   2       2424 non-null   object\n",
      " 3   3       2424 non-null   object\n",
      " 4   4       2424 non-null   object\n",
      " 5   5       798 non-null    object\n",
      " 6   6       523 non-null    object\n",
      " 7   7       265 non-null    object\n",
      " 8   8       2424 non-null   int64 \n",
      " 9   9       2424 non-null   int64 \n",
      " 10  10      2424 non-null   int64 \n",
      " 11  11      2424 non-null   int64 \n",
      " 12  12      2424 non-null   int64 \n",
      " 13  13      2424 non-null   object\n",
      " 14  14      2424 non-null   object\n",
      " 15  15      2424 non-null   object\n",
      "dtypes: int64(5), object(11)\n",
      "memory usage: 303.1+ KB\n"
     ]
    }
   ],
   "source": [
    "data = pd.read_csv('../meana2020.txt', header=None)\n",
    "data.info()"
   ]
  },
  {
   "cell_type": "code",
   "execution_count": 103,
   "id": "83ada113",
   "metadata": {},
   "outputs": [],
   "source": [
    "columns = {0:'game_id', 1:'batter', 2:'batter_hand', 3:'pitcher', 4:'pitcher_hand',\n",
    "           5:'run_first', 6:'run_second', 7:'run_third', 8:'result', 9:'rbi',\n",
    "           10:'first_dest', 11:'second_dest', 12:'third_dest',13:'sb_first',\n",
    "           14:'sb_second', 15:'sb_third'}\n",
    "\n",
    "new_data = data.rename(columns=columns)"
   ]
  },
  {
   "cell_type": "code",
   "execution_count": 118,
   "id": "0a8b96a8",
   "metadata": {},
   "outputs": [],
   "source": [
    "\n",
    "def calc_runs(game_df, batter, hrs):\n",
    "    runs = hrs\n",
    "    runs += game_df[(game_df['run_first'] == batter) & (game_df['first_dest'].isin([4,5,6]))].shape[0]\n",
    "    runs += game_df[(game_df['run_second'] == batter) & (game_df['second_dest'].isin([4,5,6]))].shape[0]\n",
    "    runs += game_df[(game_df['run_third'] == batter) & (game_df['third_dest'].isin([4,5,6]))].shape[0]\n",
    "    return runs\n",
    "\n",
    "def calc_sb(game_df, batter):\n",
    "    sb = 0 \n",
    "    sb += game_df[(game_df['run_first'] == batter) & (game_df['sb_first'] == 'T')].shape[0]\n",
    "    sb += game_df[(game_df['run_second'] == batter) & (game_df['sb_second'] == 'T')].shape[0]\n",
    "    sb += game_df[(game_df['run_third'] == batter) & (game_df['sb_third'] == 'T')].shape[0]\n",
    "    return sb"
   ]
  },
  {
   "cell_type": "code",
   "execution_count": 119,
   "id": "0f32133d",
   "metadata": {},
   "outputs": [
    {
     "name": "stdout",
     "output_type": "stream",
     "text": [
      "semim001 1\n",
      "laurr001 0\n",
      "olsom001 0\n",
      "chapm001 0\n",
      "fletd002 0\n",
      "lastt001 0\n",
      "troum001 0\n",
      "renda001 0\n",
      "ohtas001 1\n",
      "pujoa001 0\n",
      "canhm001 0\n",
      "grosr001 0\n",
      "davik003 0\n",
      "kempt001 0\n",
      "allea001 0\n",
      "castj006 0\n",
      "uptoj001 0\n",
      "goodb001 0\n",
      "rengl001 0\n",
      "machv001 0\n"
     ]
    }
   ],
   "source": [
    "games = new_data['game_id'].unique()\n",
    "for game in games:\n",
    "    current_game = new_data[new_data['game_id'] == game]\n",
    "    for batter in current_game['batter'].unique():\n",
    "        current_batter = current_game[current_game['batter'] == batter]\n",
    "        singles = current_batter[current_batter['result'] == 20].shape[0]\n",
    "        doubles = current_batter[current_batter['result'] == 21].shape[0]\n",
    "        triples = current_batter[current_batter['result'] == 22].shape[0]\n",
    "        hrs = current_batter[current_batter['result'] == 23].shape[0] \n",
    "        rbis = current_batter['rbi'].sum()\n",
    "        runs = calc_runs(current_game, batter, hrs)\n",
    "        walks = current_batter[current_batter['result'] == 14].shape[0]\n",
    "        sb = calc_sb(current_game, batter)\n",
    "        hbp = current_batter[current_batter['result'] == 16].shape[0]\n",
    "        fantasy_points = 3*singles + 6*doubles + 9*triples + 12*hrs + 3.5*rbis + 3.2*runs + 3*walks + 6*sb + 3*hbp\n",
    "        \n",
    "        # Convert name to that used by Baseball-Reference\n",
    "        bbref_name = playerid_reverse_lookup(['semim001'], key_type='retro')['key_bbref']\n",
    "        career_nums = career_totals['playerID'] == bbref_name\n",
    "        \n",
    "        \n",
    "  "
   ]
  },
  {
   "cell_type": "code",
   "execution_count": 124,
   "id": "db744451",
   "metadata": {},
   "outputs": [
    {
     "data": {
      "text/html": [
       "<div>\n",
       "<style scoped>\n",
       "    .dataframe tbody tr th:only-of-type {\n",
       "        vertical-align: middle;\n",
       "    }\n",
       "\n",
       "    .dataframe tbody tr th {\n",
       "        vertical-align: top;\n",
       "    }\n",
       "\n",
       "    .dataframe thead th {\n",
       "        text-align: right;\n",
       "    }\n",
       "</style>\n",
       "<table border=\"1\" class=\"dataframe\">\n",
       "  <thead>\n",
       "    <tr style=\"text-align: right;\">\n",
       "      <th></th>\n",
       "      <th>name_last</th>\n",
       "      <th>name_first</th>\n",
       "      <th>key_mlbam</th>\n",
       "      <th>key_retro</th>\n",
       "      <th>key_bbref</th>\n",
       "      <th>key_fangraphs</th>\n",
       "      <th>mlb_played_first</th>\n",
       "      <th>mlb_played_last</th>\n",
       "    </tr>\n",
       "  </thead>\n",
       "  <tbody>\n",
       "    <tr>\n",
       "      <th>0</th>\n",
       "      <td>semien</td>\n",
       "      <td>marcus</td>\n",
       "      <td>543760</td>\n",
       "      <td>semim001</td>\n",
       "      <td>semiema01</td>\n",
       "      <td>12533</td>\n",
       "      <td>2013.0</td>\n",
       "      <td>2021.0</td>\n",
       "    </tr>\n",
       "  </tbody>\n",
       "</table>\n",
       "</div>"
      ],
      "text/plain": [
       "  name_last name_first  key_mlbam key_retro  key_bbref  key_fangraphs  \\\n",
       "0    semien     marcus     543760  semim001  semiema01          12533   \n",
       "\n",
       "   mlb_played_first  mlb_played_last  \n",
       "0            2013.0           2021.0  "
      ]
     },
     "execution_count": 124,
     "metadata": {},
     "output_type": "execute_result"
    }
   ],
   "source": [
    "playerid_reverse_lookup(['semim001'], key_type='retro')"
   ]
  },
  {
   "cell_type": "code",
   "execution_count": 127,
   "id": "77d28fa5",
   "metadata": {},
   "outputs": [
    {
     "data": {
      "text/html": [
       "<div>\n",
       "<style scoped>\n",
       "    .dataframe tbody tr th:only-of-type {\n",
       "        vertical-align: middle;\n",
       "    }\n",
       "\n",
       "    .dataframe tbody tr th {\n",
       "        vertical-align: top;\n",
       "    }\n",
       "\n",
       "    .dataframe thead th {\n",
       "        text-align: right;\n",
       "    }\n",
       "</style>\n",
       "<table border=\"1\" class=\"dataframe\">\n",
       "  <thead>\n",
       "    <tr style=\"text-align: right;\">\n",
       "      <th></th>\n",
       "      <th>playerID</th>\n",
       "      <th>BA</th>\n",
       "      <th>2B/AB</th>\n",
       "      <th>3B/AB</th>\n",
       "      <th>HR/AB</th>\n",
       "      <th>RBI/G</th>\n",
       "      <th>R/G</th>\n",
       "      <th>BB/G</th>\n",
       "      <th>SB/G</th>\n",
       "      <th>HBP/G</th>\n",
       "    </tr>\n",
       "  </thead>\n",
       "  <tbody>\n",
       "    <tr>\n",
       "      <th>1768</th>\n",
       "      <td>semiema01</td>\n",
       "      <td>0.254133</td>\n",
       "      <td>0.052051</td>\n",
       "      <td>0.006736</td>\n",
       "      <td>0.035211</td>\n",
       "      <td>0.44289</td>\n",
       "      <td>0.544289</td>\n",
       "      <td>0.379953</td>\n",
       "      <td>0.076923</td>\n",
       "      <td>0.008159</td>\n",
       "    </tr>\n",
       "  </tbody>\n",
       "</table>\n",
       "</div>"
      ],
      "text/plain": [
       "       playerID        BA     2B/AB     3B/AB     HR/AB    RBI/G       R/G  \\\n",
       "1768  semiema01  0.254133  0.052051  0.006736  0.035211  0.44289  0.544289   \n",
       "\n",
       "          BB/G      SB/G     HBP/G  \n",
       "1768  0.379953  0.076923  0.008159  "
      ]
     },
     "execution_count": 127,
     "metadata": {},
     "output_type": "execute_result"
    }
   ],
   "source": [
    "career_totals[career_totals['playerID'] == 'semiema01']\n"
   ]
  }
 ],
 "metadata": {
  "kernelspec": {
   "display_name": "Python 3",
   "language": "python",
   "name": "python3"
  },
  "language_info": {
   "codemirror_mode": {
    "name": "ipython",
    "version": 3
   },
   "file_extension": ".py",
   "mimetype": "text/x-python",
   "name": "python",
   "nbconvert_exporter": "python",
   "pygments_lexer": "ipython3",
   "version": "3.8.10"
  }
 },
 "nbformat": 4,
 "nbformat_minor": 5
}
